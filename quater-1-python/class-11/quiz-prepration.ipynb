{
 "cells": [
  {
   "cell_type": "markdown",
   "id": "7ee190ad",
   "metadata": {},
   "source": [
    "<font size=7 color=green> <b> 🐍 Python Class 11 – 29 June 2025 </b> </font>\n",
    "\n",
    "## **🧠 Quiz Preparation**\n",
    "\n",
    "---"
   ]
  },
  {
   "cell_type": "markdown",
   "id": "c1172e15",
   "metadata": {},
   "source": [
    "### Question 1: What happens when calling `check_age(\"18\")`?"
   ]
  },
  {
   "cell_type": "code",
   "execution_count": null,
   "id": "964577b1",
   "metadata": {},
   "outputs": [],
   "source": [
    "def check_age(age: int) -> bool:\n",
    "    print(\"check age function is called\")\n",
    "\n",
    "check_age( \"18\" )"
   ]
  },
  {
   "cell_type": "markdown",
   "id": "aa6f6ab7",
   "metadata": {},
   "source": [
    "### Question 2: Will it run?"
   ]
  },
  {
   "cell_type": "code",
   "execution_count": null,
   "metadata": {},
   "outputs": [],
   "source": [
    "def check_age(age: int) -> bool: pass\n",
    "\n",
    "check_age( 18 )"
   ]
  },
  {
   "cell_type": "markdown",
   "id": "d1b5bbc4",
   "metadata": {},
   "source": [
    "### Question 3: What will be the output?"
   ]
  },
  {
   "cell_type": "code",
   "execution_count": null,
   "metadata": {},
   "outputs": [],
   "source": [
    "def check_age(age: int) -> bool: \n",
    "    pass\n",
    "\n",
    "result = check_age( 18 )\n",
    "print(result)"
   ]
  },
  {
   "cell_type": "markdown",
   "id": "33a28933",
   "metadata": {},
   "source": [
    "### Question 4: What will be printed and why?"
   ]
  },
  {
   "cell_type": "code",
   "execution_count": null,
   "metadata": {},
   "outputs": [],
   "source": [
    "def is_valid_age(age: int) -> bool: \n",
    "    if age > 18:\n",
    "        return True\n",
    "    else:\n",
    "        False\n",
    "\n",
    "result = is_valid_age( 18 )\n",
    "print(result)"
   ]
  },
  {
   "cell_type": "markdown",
   "id": "44d56971",
   "metadata": {},
   "source": [
    "### Question 5: What will be printed?"
   ]
  },
  {
   "cell_type": "code",
   "execution_count": null,
   "metadata": {},
   "outputs": [],
   "source": [
    "def is_valid_age(age: int) -> bool: \n",
    "    if age > 18:\n",
    "        return True\n",
    "    else:\n",
    "        return False\n",
    "\n",
    "print( is_valid_age( 18 ) )"
   ]
  },
  {
   "cell_type": "markdown",
   "id": "7bc7450c",
   "metadata": {},
   "source": [
    "### Question 6: Is string mutable or immutable"
   ]
  },
  {
   "cell_type": "code",
   "execution_count": null,
   "id": "454204f8",
   "metadata": {},
   "outputs": [],
   "source": [
    "name = \"Hamzah\"\n",
    "\n",
    "name = \"Ali\"\n",
    "\n",
    "print(name)"
   ]
  },
  {
   "cell_type": "markdown",
   "id": "71bcd1a8",
   "metadata": {},
   "source": [
    "### Question 7: What will happen when this code runs?"
   ]
  },
  {
   "cell_type": "code",
   "execution_count": null,
   "id": "d80cd2e2",
   "metadata": {},
   "outputs": [],
   "source": [
    "name = \"Hamzah\"\n",
    "\n",
    "name[3] = \"Ali\"\n",
    "\n",
    "print(name)"
   ]
  },
  {
   "cell_type": "markdown",
   "id": "5d5e1579",
   "metadata": {},
   "source": [
    "#### Proved"
   ]
  },
  {
   "cell_type": "code",
   "execution_count": null,
   "id": "bc5374ee",
   "metadata": {},
   "outputs": [],
   "source": [
    "name = \"Hamzah\"\n",
    "print(name)\n",
    "print( id( name ) )\n",
    "\n",
    "name2 = name.upper()\n",
    "print(name)\n",
    "print( id( name ) )"
   ]
  },
  {
   "cell_type": "code",
   "execution_count": null,
   "id": "64168d47",
   "metadata": {},
   "outputs": [],
   "source": [
    "name = \"Hamzah\"\n",
    "print( id( name ) )\n",
    "\n",
    "name = \"Ali\"\n",
    "print( id( name ) )"
   ]
  },
  {
   "cell_type": "markdown",
   "id": "48923c44",
   "metadata": {},
   "source": [
    "### Question 8: Will name1 and name2 be stored in the same memory address or different memory addresses?"
   ]
  },
  {
   "cell_type": "code",
   "execution_count": null,
   "id": "8018cde0",
   "metadata": {},
   "outputs": [],
   "source": [
    "name1 = \"Ali\"\n",
    "name2 = \"Ali\"\n",
    "\n",
    "print( id( name1 ) )\n",
    "print( id( name2 ) )"
   ]
  },
  {
   "cell_type": "markdown",
   "id": "7afe0dd9",
   "metadata": {},
   "source": [
    "### Question 9: How to get \"age\" of student?"
   ]
  },
  {
   "cell_type": "code",
   "execution_count": null,
   "id": "d4b1b0bd",
   "metadata": {},
   "outputs": [],
   "source": [
    "std = {\n",
    "    \"name\": \"Hamzah\",\n",
    "    \"age\": 18,\n",
    "    \"gender\": \"male\"\n",
    "}"
   ]
  },
  {
   "cell_type": "markdown",
   "id": "52940747",
   "metadata": {},
   "source": [
    "### Question 10: What are sets?"
   ]
  },
  {
   "cell_type": "code",
   "execution_count": null,
   "id": "718117e8",
   "metadata": {},
   "outputs": [],
   "source": [
    "roles = {\"admin\", 1, 2, 4, \"Hello world\", 4, 2, 1}\n",
    "\n",
    "roles.add(\"Ali\")\n",
    "\n",
    "print(roles)"
   ]
  },
  {
   "cell_type": "markdown",
   "id": "7b61fdd0",
   "metadata": {},
   "source": [
    "### Question 11: What will happen when this code runs?"
   ]
  },
  {
   "cell_type": "code",
   "execution_count": null,
   "id": "54a1dc53",
   "metadata": {},
   "outputs": [],
   "source": [
    "roles = {\"admin\", 1, 2, 4, \"Hello world\", [\"apple\"]}\n",
    "\n",
    "print(roles)"
   ]
  },
  {
   "cell_type": "markdown",
   "id": "917982be",
   "metadata": {},
   "source": [
    "### Question 12: Can you add tuples in sets?"
   ]
  },
  {
   "cell_type": "code",
   "execution_count": null,
   "metadata": {},
   "outputs": [],
   "source": [
    "roles = {\"admin\", 1, 2, 4, \"Hello world\", (1, 2, 3)}\n",
    "\n",
    "print(roles)"
   ]
  },
  {
   "cell_type": "markdown",
   "id": "abc17405",
   "metadata": {},
   "source": [
    "### Question 13: What's the difference between set and frozenset?"
   ]
  },
  {
   "cell_type": "code",
   "execution_count": null,
   "id": "c2f156de",
   "metadata": {},
   "outputs": [],
   "source": [
    "traffic_light: frozenset = frozenset( {\"red\", \"yellow\", \"green\"} )\n",
    "\n",
    "traffic_light.add(\"blue\")\n",
    "\n",
    "print(traffic_light)"
   ]
  },
  {
   "cell_type": "markdown",
   "id": "1973f592",
   "metadata": {},
   "source": [
    "### Question 14: What type of data structure is created when you use empty curly braces {}?"
   ]
  },
  {
   "cell_type": "code",
   "execution_count": null,
   "id": "9fac9bd8",
   "metadata": {},
   "outputs": [],
   "source": [
    "val = {}\n",
    "print( type(val) )"
   ]
  },
  {
   "cell_type": "markdown",
   "id": "278ebb9f",
   "metadata": {},
   "source": [
    "### Question 15: What happens to memory when variables are reassigned?"
   ]
  },
  {
   "cell_type": "code",
   "execution_count": null,
   "id": "0a7136df",
   "metadata": {},
   "outputs": [],
   "source": [
    "a = 10\n",
    "a = 20\n",
    "\n",
    "print(a)"
   ]
  },
  {
   "cell_type": "markdown",
   "id": "d6822554",
   "metadata": {},
   "source": [
    "### Question 16: What happens when you assign a list to another variable and modify the original?"
   ]
  },
  {
   "cell_type": "code",
   "execution_count": null,
   "id": "e229f340",
   "metadata": {},
   "outputs": [],
   "source": [
    "names = [\"a\", \"b\", \"c\"]\n",
    "new_names = names\n",
    "\n",
    "names[0] = \"z\"\n",
    "print(new_names)"
   ]
  },
  {
   "cell_type": "markdown",
   "id": "037d7b7e",
   "metadata": {},
   "source": [
    "### Question 17: What will be the output of the following code snippet?"
   ]
  },
  {
   "cell_type": "code",
   "execution_count": null,
   "id": "17878208",
   "metadata": {},
   "outputs": [],
   "source": [
    "result = \"\"\n",
    "age = 28\n",
    "\n",
    "if age >= 18:\n",
    "    result = \"You are allowed\"\n",
    "else:\n",
    "    result = \"You are not allowed\"\n",
    "\n",
    "print(result)\n"
   ]
  },
  {
   "cell_type": "markdown",
   "id": "13cf76ec",
   "metadata": {},
   "source": [
    "### Question 18: What will be the output of this ternary operator expression?"
   ]
  },
  {
   "cell_type": "code",
   "execution_count": null,
   "id": "0d41eef8",
   "metadata": {},
   "outputs": [],
   "source": [
    "age = 28\n",
    "\n",
    "result = \"You are allowed\" if age >= 18 else \"You are not allowed\"\n",
    "\n",
    "print(result)"
   ]
  }
 ],
 "metadata": {
  "kernelspec": {
   "display_name": "Python 3",
   "language": "python",
   "name": "python3"
  },
  "language_info": {
   "codemirror_mode": {
    "name": "ipython",
    "version": 3
   },
   "file_extension": ".py",
   "mimetype": "text/x-python",
   "name": "python",
   "nbconvert_exporter": "python",
   "pygments_lexer": "ipython3",
   "version": "3.13.5"
  }
 },
 "nbformat": 4,
 "nbformat_minor": 5
}
