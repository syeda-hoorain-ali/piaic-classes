{
 "cells": [
  {
   "cell_type": "markdown",
   "id": "da47cec6",
   "metadata": {},
   "source": [
    "<font size=7 color=green> <b> 🐍 Python Class 9 – 15 June 2025 </b> </font>\n",
    "\n",
    "<font size=3>\n",
    "\n",
    "- **📦 Modules**\n",
    "- **📂 File Handling**\n",
    "- **🧱 Tuples**\n",
    "- **🌿 Sets**\n",
    "- **📝 Homework Assignments**\n",
    "</font>\n",
    "\n",
    "---"
   ]
  },
  {
   "cell_type": "markdown",
   "id": "81066e23",
   "metadata": {},
   "source": [
    "### Modules"
   ]
  },
  {
   "cell_type": "markdown",
   "id": "963f076b",
   "metadata": {},
   "source": [
    "#### Custom modules\n",
    "\n",
    "<font size=3>\n",
    "\n",
    "Use vs code to create a file named `auth.py` with the following content:\n",
    "\n",
    "```py\n",
    "def login(username, password):\n",
    "    if username == \"admin\":\n",
    "        print(\"Login successful!\")\n",
    "    else:\n",
    "        print(\"Login failed!\")\n",
    "```\n",
    "\n",
    "Then, in another file, you can import and use this module:\n",
    "\n",
    "```py\n",
    "from auth import login\n",
    "\n",
    "login('admin')\n",
    "```\n",
    "\n",
    "</font>"
   ]
  },
  {
   "cell_type": "markdown",
   "id": "b3ad229c",
   "metadata": {},
   "source": [
    "#### Built-in Modules"
   ]
  },
  {
   "cell_type": "code",
   "execution_count": null,
   "id": "6b3e5460",
   "metadata": {},
   "outputs": [],
   "source": [
    "import random \n",
    "\n",
    "# Generate random integer\n",
    "print(random.randint(1, 10))"
   ]
  },
  {
   "cell_type": "code",
   "execution_count": null,
   "id": "d700d896",
   "metadata": {},
   "outputs": [],
   "source": [
    "from random import randint\n",
    "print(randint(1, 10))"
   ]
  },
  {
   "cell_type": "markdown",
   "id": "18d44f7b",
   "metadata": {},
   "source": [
    "#### External Modules\n",
    "\n",
    "<font size=3>\n",
    "\n",
    "To use external modules, you can install them using pip. For example, to install the `colorama` module, you can run the following command in your terminal:\n",
    "\n",
    "```bash\n",
    "pip install colorama\n",
    "```\n",
    "\n",
    "[Python Package Index](https://pypi.org/) is a repository of software for the Python programming language. It contains a big collection of modules and packages that you can install and use in your Python projects.\n",
    "You can search for modules on the [Python Package Index](https://pypi.org/) website.  \n",
    "[Colorama](http://pypi.org/project/colorama)\n",
    "\n",
    "</font>"
   ]
  },
  {
   "cell_type": "code",
   "execution_count": 2,
   "metadata": {},
   "outputs": [
    {
     "name": "stdout",
     "output_type": "stream",
     "text": [
      "Defaulting to user installation because normal site-packages is not writeable\n",
      "Requirement already satisfied: colorama in c:\\users\\dell\\appdata\\local\\packages\\pythonsoftwarefoundation.python.3.13_qbz5n2kfra8p0\\localcache\\local-packages\\python313\\site-packages (0.4.6)\n"
     ]
    }
   ],
   "source": [
    "!pip install colorama"
   ]
  },
  {
   "cell_type": "markdown",
   "id": "04aaf920",
   "metadata": {},
   "source": [
    "### File Handling"
   ]
  },
  {
   "cell_type": "code",
   "execution_count": null,
   "id": "8367737c",
   "metadata": {},
   "outputs": [],
   "source": [
    "file = open('test.txt', 'w')\n",
    "file.write('Line 1')\n",
    "file.close()"
   ]
  },
  {
   "cell_type": "markdown",
   "id": "f251147f",
   "metadata": {},
   "source": [
    "#### File Hanlding using `with` block"
   ]
  },
  {
   "cell_type": "code",
   "execution_count": null,
   "id": "71e4a7ea",
   "metadata": {},
   "outputs": [],
   "source": [
    "with open('test.txt', 'w') as file1:\n",
    "    file1.write('Line 1\\n')\n",
    "\n",
    "# `with` block will automatically close file\n",
    "# no need to write `file.close()`"
   ]
  },
  {
   "cell_type": "markdown",
   "id": "ded4c443",
   "metadata": {},
   "source": [
    "#### Append Mode"
   ]
  },
  {
   "cell_type": "code",
   "execution_count": null,
   "metadata": {},
   "outputs": [],
   "source": [
    "with open('test.txt', 'a') as file:\n",
    "    file.write('Line 2\\n')\n",
    "    file.write('Line 3\\n')\n",
    "    file.write('Line 4\\n')"
   ]
  },
  {
   "cell_type": "markdown",
   "id": "ff84cec4",
   "metadata": {},
   "source": [
    "#### Read Mode"
   ]
  },
  {
   "cell_type": "code",
   "execution_count": null,
   "id": "ba5699f0",
   "metadata": {},
   "outputs": [],
   "source": [
    "with open('test.txt', 'r') as file:\n",
    "    # print(file.read()) # return file content in string\n",
    "    \n",
    "    # print(file.readlines()) # return file content in list, every line is an item\n",
    "    \n",
    "    print(file.readline()) # print first line in file\n",
    "    print(file.readline()) # print second line in file\n",
    "    \n",
    "    print(\"I am reading lines of test.txt file\")\n",
    "    print(file.readlines()) # print all remaining lines in file\n"
   ]
  },
  {
   "cell_type": "markdown",
   "id": "4003a1d5",
   "metadata": {},
   "source": [
    "#### Read Limited Charactors"
   ]
  },
  {
   "cell_type": "code",
   "execution_count": null,
   "id": "17853444",
   "metadata": {},
   "outputs": [],
   "source": [
    "with open('test.txt', 'r') as file:\n",
    "    print(file.read(10))\n",
    "    # read only 10 charactors from file"
   ]
  },
  {
   "cell_type": "markdown",
   "id": "45158d1d",
   "metadata": {},
   "source": [
    "#### See Cursor Position"
   ]
  },
  {
   "cell_type": "code",
   "execution_count": null,
   "id": "b850ada3",
   "metadata": {},
   "outputs": [],
   "source": [
    "with open('test.txt', 'r') as file:\n",
    "    print(file.readline())\n",
    "    print(\"Cursor position:\", file.tell())\n",
    "\n",
    "    print(file.readline())\n",
    "    print(\"Cursor position:\", file.tell())"
   ]
  },
  {
   "cell_type": "markdown",
   "id": "bdae3f70",
   "metadata": {},
   "source": [
    "#### Change Cursor Position"
   ]
  },
  {
   "cell_type": "code",
   "execution_count": null,
   "id": "a61b70d7",
   "metadata": {},
   "outputs": [],
   "source": [
    "# When we use write mode it truncates the file to zero length as soon as we open it.\n",
    "\n",
    "with open('test.txt', 'w') as file:\n",
    "    file.seek(0, 2) # we're seeking to the end of a file that is now empty — which is just position 0.\n",
    "    print(file.tell()) \n",
    "    file.write(\"Line 5\\n\")"
   ]
  },
  {
   "cell_type": "code",
   "execution_count": null,
   "id": "720b65ab",
   "metadata": {},
   "outputs": [],
   "source": [
    "with open('test.txt', 'r') as file:\n",
    "    file.seek(8)\n",
    "    print(file.read())"
   ]
  },
  {
   "cell_type": "markdown",
   "id": "84feff72",
   "metadata": {},
   "source": [
    "#### Write & Read Mode"
   ]
  },
  {
   "cell_type": "code",
   "execution_count": null,
   "id": "63710289",
   "metadata": {},
   "outputs": [],
   "source": [
    "with open('test.txt', 'w+') as file:\n",
    "    file.write('Using w+ mode')\n",
    "    file.seek(0) # Change cursor position to start\n",
    "    print(file.read())"
   ]
  },
  {
   "cell_type": "markdown",
   "id": "d5898707",
   "metadata": {},
   "source": [
    "#### Read & Append Mode"
   ]
  },
  {
   "cell_type": "code",
   "execution_count": null,
   "id": "96c1d992",
   "metadata": {},
   "outputs": [],
   "source": [
    "with open('test.txt', 'r+') as file:\n",
    "    print(file.read())\n",
    "    print(\"Cursor position:\", file.tell())\n",
    "    file.write('Line 10\\n')"
   ]
  },
  {
   "cell_type": "markdown",
   "id": "e2d6e828",
   "metadata": {},
   "source": [
    "#### Difference between `r+` and `w+`"
   ]
  },
  {
   "cell_type": "code",
   "execution_count": null,
   "id": "3b03495b",
   "metadata": {},
   "outputs": [],
   "source": [
    "# if file not exist and we try to use read mode, \n",
    "# it will raise error\n",
    "\n",
    "with open('test1.txt', 'r') as file:\n",
    "    print(file.read()) #! Error: FileNotFoundError\n",
    "\n",
    "# but if we use write mode it will create file \n",
    "\n",
    "with open('test1.txt', 'w') as file:\n",
    "    file.write(\"Another line\\n\") \n",
    "    # a new file 'test1.txt' created\n"
   ]
  },
  {
   "cell_type": "code",
   "execution_count": null,
   "id": "f769e0dd",
   "metadata": {},
   "outputs": [],
   "source": [
    "# similar to this if you use 'r+' mode, \n",
    "# and file not exist it will raise error,\n",
    "# unline 'r+', 'w+' will create that file\n",
    "\n",
    "\n",
    "with open('test1.txt', 'r+') as file:\n",
    "    print(file.read()) #! Error: FileNotFoundError"
   ]
  },
  {
   "cell_type": "markdown",
   "id": "e52d9079",
   "metadata": {},
   "source": [
    "### Tuples\n",
    "\n",
    "<font size=3>\n",
    "\n",
    "Key differences between list and tuple:\n",
    "1. Lists are mutable (can be changed), tuples are immutable (cannot be changed).\n",
    "2. Lists use square brackets [], tuples use parentheses ().\n",
    "3. Lists have more built-in methods than tuples.\n",
    "4. Tuples are generally faster and use less memory than lists.\n",
    "</font>"
   ]
  },
  {
   "cell_type": "code",
   "execution_count": null,
   "id": "42fdde3c",
   "metadata": {},
   "outputs": [],
   "source": [
    "fruits = ['apple', 'orange', 'mango']\n",
    "fruits_tuple = ('apple', 'orange', 'mango')"
   ]
  },
  {
   "cell_type": "markdown",
   "id": "94b53c94",
   "metadata": {},
   "source": [
    "### Sets\n",
    "\n",
    "<font size=3>\n",
    "\n",
    "Key differences between list and set:\n",
    "1. Lists are ordered, sets are unordered.\n",
    "2. Lists allow duplicate elements, sets do not allow duplicates.\n",
    "3. Lists use square brackets [], sets use curly braces {}.\n",
    "4. Lists are mutable and can be indexed, sets are mutable but cannot be indexed or sliced.\n",
    "\n",
    "</font>"
   ]
  },
  {
   "cell_type": "code",
   "execution_count": null,
   "metadata": {},
   "outputs": [],
   "source": [
    "roles = ['admin', 'student', 'teacher', 'admin', 'student']\n",
    "roles_set = {'admin', 'student', 'teacher', 'admin', 'student'}\n",
    "\n",
    "print(roles_set)"
   ]
  },
  {
   "cell_type": "markdown",
   "id": "8e357d83",
   "metadata": {},
   "source": [
    "\n",
    "<font size=5 color=\"lightgreen\"><b>📝 Homework Assignments </b> </font>\n",
    "\n",
    "<font size=3>\n",
    "\n",
    "1. **Understand CSV Format**\n",
    "\n",
    "   * Learn what a `.csv` file is (comma-separated values)\n",
    "   * Example:\n",
    "\n",
    "     ```\n",
    "      name,contact \n",
    "      Hoorain,03001234567 \n",
    "     ```\n",
    "\n",
    "2. **Contact Manager Tool (CLI)**\n",
    "\n",
    "   * Create a Python script with two options:\n",
    "\n",
    "     * ` Read contacts from CSV `\n",
    "     * ` Add new contact to CSV `\n",
    "   * Ask user for name and contact number\n",
    "   * Save it to `contacts.csv`\n",
    "\n",
    "3. **Use `inquirer` Module**\n",
    "\n",
    "   * Show user a list of options like:\n",
    "\n",
    "     * Add Contact\n",
    "     * View All\n",
    "     * Exit  \n",
    "       📦 Install with:\n",
    "\n",
    "   ```bash\n",
    "   pip install inquirer\n",
    "   ```\n",
    "\n",
    "4. **Learn**\n",
    "\n",
    "   * What are **sets** and **tuples**\n",
    "   * When to use which one\n",
    "   * Practice methods from [W3Schools](https://www.w3schools.com/python/python_sets.asp)\n",
    "\n",
    "---\n",
    "\n",
    "### 🧠 Bonus Challenge (Optional)\n",
    "\n",
    "* Add validation (don’t allow duplicate names using sets)\n",
    "* Add colors using `colorama` for better UI\n",
    "* **Build something new using your own creativity** — apply what you’ve learned so far in a fun or useful way (e.g., a quiz app, task manager, or mini chatbot)\n",
    "\n",
    "</font>"
   ]
  }
 ],
 "metadata": {
  "kernelspec": {
   "display_name": "Python 3",
   "language": "python",
   "name": "python3"
  },
  "language_info": {
   "codemirror_mode": {
    "name": "ipython",
    "version": 3
   },
   "file_extension": ".py",
   "mimetype": "text/x-python",
   "name": "python",
   "nbconvert_exporter": "python",
   "pygments_lexer": "ipython3",
   "version": "3.13.3"
  }
 },
 "nbformat": 4,
 "nbformat_minor": 5
}
