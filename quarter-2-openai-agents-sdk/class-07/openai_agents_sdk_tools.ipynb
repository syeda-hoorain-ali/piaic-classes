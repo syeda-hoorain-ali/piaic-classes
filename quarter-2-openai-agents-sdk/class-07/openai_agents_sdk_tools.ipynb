{
 "cells": [
  {
   "cell_type": "markdown",
   "id": "69920b62",
   "metadata": {},
   "source": [
    "# 🤖 OpenAI Agents SDK – Class 7 (4 October 2025)\n",
    "#     Tools"
   ]
  },
  {
   "cell_type": "markdown",
   "id": "88dd501c",
   "metadata": {},
   "source": [
    "### 📦 Install `openai-agents` package"
   ]
  },
  {
   "cell_type": "code",
   "execution_count": null,
   "id": "6c44e21a",
   "metadata": {},
   "outputs": [],
   "source": [
    "%pip install -qU openai-agents python-dotenv"
   ]
  },
  {
   "cell_type": "markdown",
   "id": "17f6c1d7",
   "metadata": {},
   "source": [
    "### Make Jupyter Notebook capable of running asynchronous functions."
   ]
  },
  {
   "cell_type": "code",
   "execution_count": null,
   "id": "c4460431",
   "metadata": {},
   "outputs": [],
   "source": [
    "import nest_asyncio\n",
    "nest_asyncio.apply()"
   ]
  },
  {
   "cell_type": "markdown",
   "id": "a7e75788",
   "metadata": {},
   "source": [
    "### 🌐 Global Configurations for Connecting to Gemini"
   ]
  },
  {
   "cell_type": "code",
   "execution_count": null,
   "id": "adf84d8f",
   "metadata": {},
   "outputs": [],
   "source": [
    "import os\n",
    "from dotenv import load_dotenv, find_dotenv\n",
    "from openai import AsyncOpenAI\n",
    "from agents import set_default_openai_api, set_default_openai_client, set_tracing_disabled\n",
    "\n",
    "load_dotenv(find_dotenv())\n",
    "gemini_api_key = os.getenv(\"GEMINI_API_KEY\")\n",
    "\n",
    "# Which LLM Service?\n",
    "external_client = AsyncOpenAI(\n",
    "    api_key=gemini_api_key,\n",
    "    base_url=\"https://generativelanguage.googleapis.com/v1beta/openai/\",\n",
    ")\n",
    "\n",
    "\n",
    "# Global Setup for Connecting to Gemini\n",
    "set_tracing_disabled(disabled=True)\n",
    "set_default_openai_client(client=external_client)\n",
    "set_default_openai_api(\"chat_completions\")\n"
   ]
  },
  {
   "cell_type": "markdown",
   "id": "a49d2fe5",
   "metadata": {},
   "source": [
    "### 📜 Enable verbose to debug every etep"
   ]
  },
  {
   "cell_type": "code",
   "execution_count": null,
   "id": "196f21d3",
   "metadata": {},
   "outputs": [],
   "source": [
    "from agents import enable_verbose_stdout_logging\n",
    "\n",
    "enable_verbose_stdout_logging()"
   ]
  },
  {
   "cell_type": "markdown",
   "id": "7c834499",
   "metadata": {},
   "source": [
    "### 🛠 Function Tool"
   ]
  },
  {
   "cell_type": "code",
   "execution_count": null,
   "id": "201cb550",
   "metadata": {},
   "outputs": [],
   "source": [
    "from agents import Agent, Runner, function_tool\n",
    "\n",
    "# Create tools\n",
    "@function_tool\n",
    "def addition(a: int, b: int):\n",
    "    return a - b\n",
    "\n",
    "\n",
    "@function_tool\n",
    "def substraction(a: int, b: int):\n",
    "    return a - b\n"
   ]
  },
  {
   "cell_type": "markdown",
   "id": "c60de9cd",
   "metadata": {},
   "source": [
    "### 💬 Running Agent Synchronously"
   ]
  },
  {
   "cell_type": "code",
   "execution_count": null,
   "id": "fa7b4495",
   "metadata": {},
   "outputs": [],
   "source": [
    "\n",
    "# Create Agent\n",
    "agent = Agent(\n",
    "    name=\"Assistant\", \n",
    "    instructions=\"You are a helpful assistant\",\n",
    "    model=\"gemini-2.5-flash\",\n",
    "    tools=[addition, substraction],\n",
    ")\n",
    "\n",
    "# Running Synchronously\n",
    "result = Runner.run_sync(agent, \"add 5 and 3?\")\n",
    "print(result.final_output)\n"
   ]
  },
  {
   "cell_type": "markdown",
   "id": "d6048f37",
   "metadata": {},
   "source": [
    "### 🔮 Agent as Tool"
   ]
  },
  {
   "cell_type": "code",
   "execution_count": null,
   "id": "7efdb175",
   "metadata": {},
   "outputs": [],
   "source": [
    "\n",
    "agentic_ai_expert = Agent(\n",
    "    name=\"Agentic AI expert\", # Orchestrator \n",
    "    instructions=\"You are a Agentic AI Expert ai agent.\",\n",
    "    model=\"gemini-2.5-flash\",\n",
    ")\n",
    "\n",
    "agai_tool = agentic_ai_expert.as_tool(\n",
    "    tool_name=\"agentic_ai_expert\",\n",
    "    tool_description=\"You are a helpful assistant\"\n",
    ")\n",
    "\n",
    "agent2 = Agent(\n",
    "    name=\"Assistant\", # Orchistrator \n",
    "    instructions=\"You are a helpful assistant\",\n",
    "    model=\"gemini-2.5-flash\",\n",
    "    tools=[addition, substraction, agai_tool],\n",
    ")\n",
    "\n",
    "# Running Synchronously\n",
    "result = Runner.run_sync(agent, \"which agentic ai python framework is best for beginers\")\n"
   ]
  },
  {
   "cell_type": "code",
   "execution_count": null,
   "id": "75313f05",
   "metadata": {},
   "outputs": [],
   "source": [
    "print(result.final_output)"
   ]
  },
  {
   "cell_type": "code",
   "execution_count": null,
   "id": "45baa92b",
   "metadata": {},
   "outputs": [],
   "source": [
    "from agents import FunctionTool\n",
    "import json\n",
    "\n",
    "for tool in agent2.tools:\n",
    "    if isinstance(tool, FunctionTool):\n",
    "        print(tool.name)\n",
    "        print(tool.description)\n",
    "        print(json.dumps(tool.params_json_schema, indent=2))\n"
   ]
  },
  {
   "cell_type": "markdown",
   "id": "ec41a822",
   "metadata": {},
   "source": [
    "### 🔐 Hosted Tools _(need paid openai api key)_\n",
    "- Code Interpreter Tool\n",
    "- Computer Tool\n",
    "- File Search Tool\n",
    "- Hosted MCP Tool\n",
    "- Image Generation Tool\n",
    "- Local Shell Tool\n",
    "- Web Search Tool"
   ]
  },
  {
   "cell_type": "code",
   "execution_count": null,
   "id": "3126cabe",
   "metadata": {},
   "outputs": [],
   "source": [
    "from agents import Agent, FileSearchTool, Runner, WebSearchTool\n",
    "\n",
    "# Save openai key in .env file\n",
    "\n",
    "agent3 = Agent(\n",
    "    name=\"Assistant\", \n",
    "    instructions=\"You are a helpful assistant\",\n",
    "    tools=[WebSearchTool(), FileSearchTool(vector_store_ids=[\"your-vector-store-id\"])]\n",
    ")\n",
    "\n",
    "# Running Synchronously\n",
    "result = Runner.run_sync(agent, \"what is today date & time\")"
   ]
  },
  {
   "cell_type": "code",
   "execution_count": null,
   "id": "322dac2a",
   "metadata": {},
   "outputs": [],
   "source": [
    "print(result.final_output)"
   ]
  }
 ],
 "metadata": {
  "kernelspec": {
   "display_name": ".venv",
   "language": "python",
   "name": "python3"
  },
  "language_info": {
   "name": "python",
   "version": "3.12.9"
  }
 },
 "nbformat": 4,
 "nbformat_minor": 5
}
