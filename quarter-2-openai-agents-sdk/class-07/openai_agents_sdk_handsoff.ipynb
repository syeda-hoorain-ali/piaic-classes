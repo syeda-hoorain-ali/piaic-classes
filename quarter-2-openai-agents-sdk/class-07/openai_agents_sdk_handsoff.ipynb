{
 "cells": [
  {
   "cell_type": "markdown",
   "id": "69920b62",
   "metadata": {},
   "source": [
    "# 🤖 OpenAI Agents SDK – Class 7 (4 October 2025)\n",
    "# Handsoff"
   ]
  },
  {
   "cell_type": "markdown",
   "id": "88dd501c",
   "metadata": {},
   "source": [
    "### 📦 Install `openai-agents` package"
   ]
  },
  {
   "cell_type": "code",
   "execution_count": null,
   "id": "6c44e21a",
   "metadata": {},
   "outputs": [],
   "source": [
    "%pip install -qU openai-agents python-dotenv"
   ]
  },
  {
   "cell_type": "markdown",
   "id": "17f6c1d7",
   "metadata": {},
   "source": [
    "### Make Jupyter Notebook capable of running asynchronous functions."
   ]
  },
  {
   "cell_type": "code",
   "execution_count": null,
   "id": "c4460431",
   "metadata": {},
   "outputs": [],
   "source": [
    "import nest_asyncio\n",
    "nest_asyncio.apply()"
   ]
  },
  {
   "cell_type": "markdown",
   "id": "a7e75788",
   "metadata": {},
   "source": [
    "### 🌐 Global Configurations for Connecting to Gemini"
   ]
  },
  {
   "cell_type": "code",
   "execution_count": null,
   "id": "adf84d8f",
   "metadata": {},
   "outputs": [],
   "source": [
    "import os\n",
    "from dotenv import load_dotenv, find_dotenv\n",
    "from openai import AsyncOpenAI\n",
    "from agents import set_default_openai_api, set_default_openai_client, set_tracing_disabled\n",
    "\n",
    "load_dotenv(find_dotenv())\n",
    "gemini_api_key = os.getenv(\"GEMINI_API_KEY\")\n",
    "\n",
    "# Which LLM Service?\n",
    "external_client = AsyncOpenAI(\n",
    "    api_key=gemini_api_key,\n",
    "    base_url=\"https://generativelanguage.googleapis.com/v1beta/openai/\",\n",
    ")\n",
    "\n",
    "\n",
    "# Global Setup for Connecting to Gemini\n",
    "set_tracing_disabled(disabled=True)\n",
    "set_default_openai_client(client=external_client)\n",
    "set_default_openai_api(\"chat_completions\")\n"
   ]
  },
  {
   "cell_type": "markdown",
   "id": "a49d2fe5",
   "metadata": {},
   "source": [
    "### 📜 Enable verbose to debug every etep"
   ]
  },
  {
   "cell_type": "code",
   "execution_count": null,
   "id": "196f21d3",
   "metadata": {},
   "outputs": [],
   "source": [
    "from agents import enable_verbose_stdout_logging\n",
    "\n",
    "enable_verbose_stdout_logging()"
   ]
  },
  {
   "cell_type": "markdown",
   "id": "c60de9cd",
   "metadata": {},
   "source": [
    "### 🤝 Triage Agent that handsoff"
   ]
  },
  {
   "cell_type": "code",
   "execution_count": null,
   "id": "fa7b4495",
   "metadata": {},
   "outputs": [],
   "source": [
    "from agents import Agent, Runner, handoff\n",
    "import asyncio\n",
    "\n",
    "billing_agent = Agent(name=\"Billing agent\", instructions=\"Handle billing questions.\", model=\"gemini-2.5-flash\")\n",
    "refund_agent  = Agent(name=\"Refund agent\",  instructions=\"Handle refunds.\", model=\"gemini-2.5-flash\")\n",
    "\n",
    "triage_agent = Agent(\n",
    "    name=\"Triage agent\",\n",
    "    instructions=(\n",
    "        \"Help the user with their questions. \"\n",
    "        \"If they ask about billing, handoff to the Billing agent. \"\n",
    "        \"If they ask about refunds, handoff to the Refund agent.\"\n",
    "    ),\n",
    "    model=\"gemini-2.5-flash\",\n",
    "    handoffs=[billing_agent, handoff(refund_agent)],  # either direct agent or `handoff(...)`\n",
    ")\n",
    "\n",
    "async def main():\n",
    "    result = await Runner.run(triage_agent, \"I need to check refund status.\")\n",
    "    print('='*50, '\\n')\n",
    "    print(result.final_output)\n",
    "    print(result.last_agent)\n",
    "\n",
    "asyncio.run(main())\n"
   ]
  }
 ],
 "metadata": {
  "kernelspec": {
   "display_name": ".venv",
   "language": "python",
   "name": "python3"
  },
  "language_info": {
   "name": "python",
   "version": "3.12.9"
  }
 },
 "nbformat": 4,
 "nbformat_minor": 5
}
