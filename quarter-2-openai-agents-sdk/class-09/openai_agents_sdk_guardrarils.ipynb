{
 "cells": [
  {
   "cell_type": "markdown",
   "id": "69920b62",
   "metadata": {},
   "source": [
    "# 🤖 OpenAI Agents SDK – Class 9 (19 October 2025)\n",
    "# Guardrarils"
   ]
  },
  {
   "cell_type": "markdown",
   "id": "88dd501c",
   "metadata": {},
   "source": [
    "### 📦 Install `openai-agents` package"
   ]
  },
  {
   "cell_type": "code",
   "execution_count": null,
   "id": "6c44e21a",
   "metadata": {},
   "outputs": [],
   "source": [
    "%pip install -qU openai-agents python-dotenv"
   ]
  },
  {
   "cell_type": "markdown",
   "id": "17f6c1d7",
   "metadata": {},
   "source": [
    "### Make Jupyter Notebook capable of running asynchronous functions."
   ]
  },
  {
   "cell_type": "code",
   "execution_count": null,
   "id": "c4460431",
   "metadata": {},
   "outputs": [],
   "source": [
    "import nest_asyncio\n",
    "nest_asyncio.apply()"
   ]
  },
  {
   "cell_type": "markdown",
   "id": "a7e75788",
   "metadata": {},
   "source": [
    "### 🌐 Global Configurations for Connecting to Gemini"
   ]
  },
  {
   "cell_type": "code",
   "execution_count": null,
   "id": "adf84d8f",
   "metadata": {},
   "outputs": [],
   "source": [
    "import os\n",
    "from dotenv import load_dotenv, find_dotenv\n",
    "from openai import AsyncOpenAI\n",
    "from agents import set_default_openai_api, set_default_openai_client, set_tracing_disabled\n",
    "\n",
    "load_dotenv(find_dotenv())\n",
    "gemini_api_key = os.getenv(\"GEMINI_API_KEY\")\n",
    "\n",
    "# Which LLM Service?\n",
    "external_client = AsyncOpenAI(\n",
    "    api_key=gemini_api_key,\n",
    "    base_url=\"https://generativelanguage.googleapis.com/v1beta/openai/\",\n",
    ")\n",
    "\n",
    "\n",
    "# Global Setup for Connecting to Gemini\n",
    "set_tracing_disabled(disabled=True)\n",
    "set_default_openai_client(client=external_client)\n",
    "set_default_openai_api(\"chat_completions\")\n"
   ]
  },
  {
   "cell_type": "markdown",
   "id": "a49d2fe5",
   "metadata": {},
   "source": [
    "### 📜 Enable verbose to debug every etep"
   ]
  },
  {
   "cell_type": "code",
   "execution_count": null,
   "id": "196f21d3",
   "metadata": {},
   "outputs": [],
   "source": [
    "from agents import enable_verbose_stdout_logging\n",
    "\n",
    "enable_verbose_stdout_logging()"
   ]
  },
  {
   "cell_type": "markdown",
   "id": "c60de9cd",
   "metadata": {},
   "source": [
    "### 💂🏻‍♂️ Guardrails"
   ]
  },
  {
   "cell_type": "code",
   "execution_count": null,
   "id": "ff6e7b4a",
   "metadata": {},
   "outputs": [],
   "source": [
    "from agents import Agent, Runner, input_guardrail, GuardrailFunctionOutput, InputGuardrailTripwireTriggered\n",
    "\n",
    "@input_guardrail\n",
    "async def math_guardrail(ctx, agent, input) -> GuardrailFunctionOutput:\n",
    "    if \"math\" in input:\n",
    "        return GuardrailFunctionOutput(\n",
    "            output_info=\"The user is asking about math\",\n",
    "            tripwire_triggered=True\n",
    "        )\n",
    "    else:\n",
    "        return GuardrailFunctionOutput(\n",
    "            output_info=\"The user is not asking about math\",\n",
    "            tripwire_triggered=False\n",
    "        )\n",
    "\n",
    "\n",
    "agent = Agent(\n",
    "    name=\"Customer support agent\",\n",
    "    instructions=\"You are a customer support agent. You help customers with their questions.\",\n",
    "    input_guardrails=[math_guardrail],\n",
    "    model=\"gemini-2.5-flash\",\n",
    ")\n",
    "\n",
    "try:\n",
    "    result = Runner.run_sync(agent, \"solve this problem: x: 2x + 3 = 11?\")\n",
    "    print(\"Guardrail didn't trip - this is unexpected\")\n",
    "    print(result.final_output)\n",
    "\n",
    "except InputGuardrailTripwireTriggered:\n",
    "    print(\"Math homework guardrail tripped\")\n"
   ]
  },
  {
   "cell_type": "markdown",
   "id": "45d6e610",
   "metadata": {},
   "source": [
    "### 💂🏻‍♂️ Guardrails with Agent"
   ]
  },
  {
   "cell_type": "code",
   "execution_count": null,
   "id": "fa7b4495",
   "metadata": {},
   "outputs": [],
   "source": [
    "\n",
    "from pydantic import BaseModel\n",
    "from agents import Agent, Runner, input_guardrail, GuardrailFunctionOutput, InputGuardrailTripwireTriggered\n",
    "\n",
    "class MathHomeworkOutput(BaseModel):\n",
    "    reasoning: str\n",
    "    is_math_homework: bool\n",
    "\n",
    "guardrail_agent = Agent(\n",
    "    name=\"Guardrail check\",\n",
    "    instructions=\"Check if the user is asking you to do their math homework.\",\n",
    "    output_type=MathHomeworkOutput,\n",
    "    model=\"gemini-2.5-flash\",\n",
    ")\n",
    "\n",
    "\n",
    "@input_guardrail\n",
    "async def math_guardrail(ctx, agent, input) -> GuardrailFunctionOutput:\n",
    "    result = await Runner.run(guardrail_agent, input)\n",
    "    print(\"Math guardrail final output:\", result.final_output)\n",
    "\n",
    "    return GuardrailFunctionOutput(\n",
    "        output_info=result.final_output,\n",
    "        tripwire_triggered=result.final_output.is_math_homework,\n",
    "    )\n",
    "\n",
    "\n",
    "agent = Agent(\n",
    "    name=\"Customer support agent\",\n",
    "    instructions=\"You are a customer support agent. You help customers with their questions.\",\n",
    "    input_guardrails=[math_guardrail],\n",
    "    model=\"gemini-2.5-flash\",\n",
    ")\n",
    "\n",
    "try:\n",
    "    result = Runner.run_sync(agent, \"solve this problem: x: 2x + 3 = 11?\")\n",
    "    print(\"Guardrail didn't trip - this is unexpected\")\n",
    "    print(result.final_output)\n",
    "\n",
    "except InputGuardrailTripwireTriggered:\n",
    "    print(\"Math homework guardrail tripped\")\n"
   ]
  }
 ],
 "metadata": {
  "kernelspec": {
   "display_name": ".venv",
   "language": "python",
   "name": "python3"
  },
  "language_info": {
   "name": "python",
   "version": "3.12.9"
  }
 },
 "nbformat": 4,
 "nbformat_minor": 5
}
