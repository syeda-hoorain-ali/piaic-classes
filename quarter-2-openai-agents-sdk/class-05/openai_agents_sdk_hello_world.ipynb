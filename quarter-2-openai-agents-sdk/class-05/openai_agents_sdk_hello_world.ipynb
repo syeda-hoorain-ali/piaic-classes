{
 "cells": [
  {
   "cell_type": "markdown",
   "id": "69920b62",
   "metadata": {},
   "source": [
    "# 🤖 OpenAI Agents SDK – Class 5 (20 September 2025)"
   ]
  },
  {
   "cell_type": "markdown",
   "id": "88dd501c",
   "metadata": {},
   "source": [
    "### 📦 Install `openai-agents` package"
   ]
  },
  {
   "cell_type": "code",
   "execution_count": null,
   "id": "6c44e21a",
   "metadata": {},
   "outputs": [],
   "source": [
    "!pip install -qU openai-agents"
   ]
  },
  {
   "cell_type": "markdown",
   "id": "17f6c1d7",
   "metadata": {},
   "source": [
    "### Make Jupyter Notebook capable of running asynchronous functions."
   ]
  },
  {
   "cell_type": "code",
   "execution_count": null,
   "id": "c4460431",
   "metadata": {},
   "outputs": [],
   "source": [
    "import nest_asyncio\n",
    "nest_asyncio.apply()"
   ]
  },
  {
   "cell_type": "markdown",
   "id": "a7e75788",
   "metadata": {},
   "source": [
    "### 🌐 Global Configurations for Connecting to Gemini"
   ]
  },
  {
   "cell_type": "code",
   "execution_count": null,
   "id": "adf84d8f",
   "metadata": {},
   "outputs": [],
   "source": [
    "from openai import AsyncOpenAI\n",
    "from agents import set_default_openai_api, set_default_openai_client, set_tracing_disabled\n",
    "\n",
    "\n",
    "gemini_api_key = \"paste your gemini api key here\"\n",
    "\n",
    "# Which LLM Service?\n",
    "external_client = AsyncOpenAI(\n",
    "    api_key=gemini_api_key, # House key\n",
    "    base_url=\"https://generativelanguage.googleapis.com/v1beta/openai/\", # House address\n",
    ")\n",
    "\n",
    "\n",
    "# Global Setup for Connecting to Gemini\n",
    "set_tracing_disabled(disabled=True)\n",
    "set_default_openai_client(client=external_client)\n",
    "set_default_openai_api(\"chat_completions\")\n"
   ]
  },
  {
   "cell_type": "markdown",
   "id": "c60de9cd",
   "metadata": {},
   "source": [
    "### 💬 Running Agent Synchronously"
   ]
  },
  {
   "cell_type": "code",
   "execution_count": null,
   "id": "fa7b4495",
   "metadata": {},
   "outputs": [],
   "source": [
    "from agents import Agent, Runner\n",
    "\n",
    "# Create Agent\n",
    "agent = Agent(\n",
    "    name=\"Assistant\", \n",
    "    instructions=\"You are a helpful assistant\",\n",
    "    model=\"gemini-2.5-flash\",\n",
    ")\n",
    "\n",
    "# Running Synchronously\n",
    "result = Runner.run_sync(agent, \"Hello\")\n",
    "print(result.final_output)\n"
   ]
  }
 ],
 "metadata": {
  "kernelspec": {
   "display_name": "hello-world",
   "language": "python",
   "name": "python3"
  },
  "language_info": {
   "name": "python",
   "version": "3.12.9"
  }
 },
 "nbformat": 4,
 "nbformat_minor": 5
}
