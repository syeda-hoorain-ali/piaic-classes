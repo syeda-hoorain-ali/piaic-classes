{
 "cells": [
  {
   "cell_type": "markdown",
   "id": "3eedfd65",
   "metadata": {},
   "source": [
    "<font size=7 color=green> <b> 🐍 Python Class 14 – 27 July 2025 </b> </font>\n",
    "\n",
    "<font size=3>\n",
    "\n",
    "### **🧱 Object-Oriented Programming (OOP)**\n",
    "- 🏷️ **Class Variables**\n",
    "- 🛠️ **Class Methods**\n",
    "</font>\n",
    "\n",
    "---"
   ]
  },
  {
   "cell_type": "markdown",
   "id": "73796370",
   "metadata": {},
   "source": [
    "## 🧱 Object-Oriented Programming (OOP)\n",
    "\n",
    "### 🏷️ Class Variables\n",
    "\n",
    "Class variables are shared across all instances of a class. They are defined within the class body and can be accessed using the class name or through an instance.\n"
   ]
  },
  {
   "cell_type": "code",
   "execution_count": 1,
   "id": "85515f35",
   "metadata": {},
   "outputs": [
    {
     "name": "stdout",
     "output_type": "stream",
     "text": [
      "Student 1 quarter:  1\n",
      "Student 2 quarter:  1\n",
      "Student's class quarter:  1\n",
      "\n",
      "Student 1 quarter:  3\n",
      "Student 2 quarter:  3\n",
      "Student's class quarter:  3\n"
     ]
    }
   ],
   "source": [
    "class Student:\n",
    "    quarter = 1\n",
    "    \n",
    "    def __init__(self, name):\n",
    "        self.name = name\n",
    "\n",
    "\n",
    "std1 = Student(\"Hoorain\")\n",
    "std2 = Student(\"Hamzah\")\n",
    "\n",
    "print(\"Student 1 quarter: \", std1.quarter)\n",
    "print(\"Student 2 quarter: \", std2.quarter)\n",
    "print(\"Student's class quarter: \", Student.quarter)\n",
    "\n",
    "Student.quarter = 3\n",
    "\n",
    "print(\"\\nStudent 1 quarter: \", std1.quarter)\n",
    "print(\"Student 2 quarter: \", std2.quarter)\n",
    "print(\"Student's class quarter: \", Student.quarter)"
   ]
  },
  {
   "cell_type": "markdown",
   "id": "20dcdb6a",
   "metadata": {},
   "source": [
    "### 🛠️ Class Methods\n",
    "\n",
    "Class methods are methods that are bound to the class and not the instance of the class. They can be called on the class itself, and they take `cls` as the first parameter, which refers to the class itself.\n"
   ]
  },
  {
   "cell_type": "code",
   "execution_count": 2,
   "id": "7c50745b",
   "metadata": {},
   "outputs": [
    {
     "name": "stdout",
     "output_type": "stream",
     "text": [
      "Student 1 quarter:  1\n",
      "Student 2 quarter:  1\n",
      "Student's class quarter:  1\n",
      "\n",
      "Student 1 quarter:  4\n",
      "Student 2 quarter:  4\n",
      "Student's class quarter:  4\n"
     ]
    }
   ],
   "source": [
    "class Student:\n",
    "    quarter = 1\n",
    "    \n",
    "    def __init__(self, name):\n",
    "        self.name = name\n",
    "\n",
    "    def display_name(self):\n",
    "        print(self.name)\n",
    "\n",
    "    @classmethod\n",
    "    def change_quarter(cls, quarter):\n",
    "        cls.quarter = quarter\n",
    "\n",
    "std1 = Student(\"Hoorain\")\n",
    "std2 = Student(\"Hamzah\")\n",
    "\n",
    "print(\"Student 1 quarter: \", std1.quarter)\n",
    "print(\"Student 2 quarter: \", std2.quarter)\n",
    "print(\"Student's class quarter: \", Student.quarter)\n",
    "\n",
    "std1.change_quarter(4)\n",
    "\n",
    "print(\"\\nStudent 1 quarter: \", std1.quarter)\n",
    "print(\"Student 2 quarter: \", std2.quarter)\n",
    "print(\"Student's class quarter: \", Student.quarter)"
   ]
  },
  {
   "cell_type": "markdown",
   "id": "07cf24b1",
   "metadata": {},
   "source": [
    "### 🎓 **Congratulations!**\n",
    "\n",
    "This was your **last Python class** of the quarter. You’ve learned:\n",
    "\n",
    "* Programming fundamentals\n",
    "* Real-world Python use\n",
    "* Object-oriented design\n",
    "* Tools like `mypy`, `colorama`, `inquirer`\n",
    "\n",
    "---\n",
    "\n",
    "### 🏁 **What’s Next?**\n",
    "\n",
    "* Build mini projects (like your **University Management System**)\n",
    "* Review all 14 class notes\n",
    "* Keep practicing daily\n",
    "* Explore topics like:\n",
    "\n",
    "  * AI agents (OpenAI SDK)\n",
    "  * APIs and automation\n",
    "  * Python + web with FastAPI\n",
    "\n"
   ]
  }
 ],
 "metadata": {
  "kernelspec": {
   "display_name": "Python 3",
   "language": "python",
   "name": "python3"
  },
  "language_info": {
   "codemirror_mode": {
    "name": "ipython",
    "version": 3
   },
   "file_extension": ".py",
   "mimetype": "text/x-python",
   "name": "python",
   "nbconvert_exporter": "python",
   "pygments_lexer": "ipython3",
   "version": "3.13.5"
  }
 },
 "nbformat": 4,
 "nbformat_minor": 5
}
