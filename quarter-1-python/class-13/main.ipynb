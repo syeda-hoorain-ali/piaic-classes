{
 "cells": [
  {
   "cell_type": "markdown",
   "id": "3eedfd65",
   "metadata": {},
   "source": [
    "<font size=7 color=green> <b> 🐍 Python Class 13 – 20 July 2025 </b> </font>\n",
    "\n",
    "<font size=3>\n",
    "\n",
    "### **🧱 Object-Oriented Programming (OOP)**\n",
    "\n",
    "- **🏗️ Constructor**\n",
    "- **🎯 Constructor with Parameters**\n",
    "- **📦 Attributes and Methods**\n",
    "- **🏛️ 4 Pillars of OOP**\n",
    "    - **🧬 Inheritance**\n",
    "    - **🔄 Polymorphism**\n",
    "    - **🔒 Encapsulation**\n",
    "    - **🛠️ Abstraction**\n",
    "- **📝 Homework Assignments**\n",
    "</font>\n",
    "\n",
    "---"
   ]
  },
  {
   "cell_type": "markdown",
   "id": "73796370",
   "metadata": {},
   "source": [
    "## 🧱 Object-Oriented Programming (OOP)\n",
    "\n",
    "Python supports Object-Oriented Programming. Let’s explore it with real examples:\n",
    "\n",
    "---\n",
    "\n",
    "### 🏗️ Constructor (`__init__`)\n",
    "\n",
    "A **constructor** is a special method that runs automatically when an object is created using a class. We define it with `__init__()`.\n"
   ]
  },
  {
   "cell_type": "code",
   "execution_count": 1,
   "id": "85515f35",
   "metadata": {},
   "outputs": [
    {
     "name": "stdout",
     "output_type": "stream",
     "text": [
      "123\n",
      "123\n"
     ]
    }
   ],
   "source": [
    "class House:\n",
    "    def __init__(self):\n",
    "        # self = {}\n",
    "        self.address: str = \"123\"\n",
    "        self.no_of_doors: int = 2\n",
    "        self.no_of_rooms: int = 4\n",
    "        # self =  { address: \"123 xyz\", no_of_doors: 2, no_of_rooms: 4 }\n",
    "\n",
    "\n",
    "h1 = House()  #  { address, no_of_rooms, ... }\n",
    "h2 = House()  #  { address, no_of_rooms, ... }\n",
    "h3 = House()  #  { address, no_of_rooms, ... }\n",
    "\n",
    "print(h3.address)\n",
    "print(h1.address)\n"
   ]
  },
  {
   "cell_type": "markdown",
   "id": "7d82a36f",
   "metadata": {},
   "source": [
    "### 🎯 Constructor with Parameters"
   ]
  },
  {
   "cell_type": "code",
   "execution_count": 2,
   "id": "52557d17",
   "metadata": {},
   "outputs": [
    {
     "name": "stdout",
     "output_type": "stream",
     "text": [
      "xyz 125\n",
      "xyz 123\n"
     ]
    }
   ],
   "source": [
    "class House:\n",
    "    def __init__(self, address):\n",
    "        # self = {}\n",
    "        self.address: str = address\n",
    "        self.no_of_doors: int = 2\n",
    "        self.no_of_rooms: int = 4\n",
    "        # self =  { address: \"123 xyz\", no_of_doors: 2, no_of_rooms: 4 }\n",
    "\n",
    "\n",
    "h1 = House(address = \"xyz 123\")  #  { address, no_of_rooms, ... }\n",
    "h2 = House(\"xyz 124\")            #  { address, no_of_rooms, ... }\n",
    "h3 = House(\"xyz 125\")            #  { address, no_of_rooms, ... }\n",
    "\n",
    "print(h3.address)\n",
    "print(h1.address)\n"
   ]
  },
  {
   "cell_type": "markdown",
   "id": "1b02cebc",
   "metadata": {},
   "source": [
    "### 🎯 Constructor with default/optional parameters"
   ]
  },
  {
   "cell_type": "code",
   "execution_count": 3,
   "metadata": {},
   "outputs": [
    {
     "name": "stdout",
     "output_type": "stream",
     "text": [
      "None\n",
      "xyz 123\n"
     ]
    }
   ],
   "source": [
    "class House:\n",
    "    def __init__(self, address = None): # give default 'None' value to make it optional\n",
    "        self.address: str | None = address\n",
    "        self.no_of_doors: int = 2\n",
    "        self.no_of_rooms: int = 4\n",
    "\n",
    "\n",
    "h1 = House(address = \"xyz 123\")\n",
    "h2 = House(\"xyz 124\")\n",
    "h3 = House()\n",
    "\n",
    "print(h3.address)\n",
    "print(h1.address)\n"
   ]
  },
  {
   "cell_type": "markdown",
   "id": "47644ef0",
   "metadata": {},
   "source": [
    "### 📦 Attributes and Methods\n",
    "\n",
    "* **Attributes** are variables inside a class.\n",
    "* **Methods** are functions inside a class."
   ]
  },
  {
   "cell_type": "code",
   "execution_count": 4,
   "id": "11c8426b",
   "metadata": {},
   "outputs": [
    {
     "name": "stdout",
     "output_type": "stream",
     "text": [
      "  xyz 124 Lift is called\n"
     ]
    }
   ],
   "source": [
    "class House:\n",
    "    def __init__(self, address):\n",
    "        self.address: str = address\n",
    "        self.no_of_doors: int = 2\n",
    "        self.no_of_rooms: int = 4\n",
    "\n",
    "    def call_lift(self):\n",
    "        print(f\"  {self.address} Lift is called\")\n",
    "\n",
    "\n",
    "h1 = House(address = \"xyz 123\")\n",
    "h2 = House(\"xyz 124\")\n",
    "h3 = House(\"xyz 125\")\n",
    "\n",
    "h2.call_lift()"
   ]
  },
  {
   "cell_type": "markdown",
   "id": "b1f5c121",
   "metadata": {},
   "source": [
    "### 📙 Task to make a Student class"
   ]
  },
  {
   "cell_type": "code",
   "execution_count": 5,
   "metadata": {},
   "outputs": [
    {
     "name": "stdout",
     "output_type": "stream",
     "text": [
      "Alishba you addmission is final\n",
      "Paying fees: 1000\n"
     ]
    }
   ],
   "source": [
    "class Student:\n",
    "    def __init__(self, name, roll_no):\n",
    "        self.name: str = name\n",
    "        self.roll_no: str = roll_no\n",
    "        self.institute: str = \"PIAIC\"\n",
    "    \n",
    "    def get_addmission(self):\n",
    "        print(f\"{self.name} you addmission is final\")\n",
    "    \n",
    "    def pay_fee(self, fees: int):\n",
    "        print(f\"Paying fees: {fees}\")\n",
    "\n",
    "\n",
    "std1 = Student(\"Ali\", '123')\n",
    "std2 = Student(\"Ahmad\", '124')\n",
    "std3 = Student(\"Alishba\", '125')\n",
    "\n",
    "std3.get_addmission()\n",
    "std3.pay_fee(1000)\n"
   ]
  },
  {
   "cell_type": "markdown",
   "id": "cc34f2d5",
   "metadata": {},
   "source": [
    "### 📙 Task to make a Course class with list of Students"
   ]
  },
  {
   "cell_type": "code",
   "execution_count": 6,
   "id": "181e876b",
   "metadata": {},
   "outputs": [
    {
     "name": "stdout",
     "output_type": "stream",
     "text": [
      "[<__main__.Student object at 0x0000020094BE7380>]\n",
      "Ali\n"
     ]
    }
   ],
   "source": [
    "class Course:\n",
    "    def __init__(self, course_name):\n",
    "        self.course_name = course_name\n",
    "        self.students = []\n",
    "\n",
    "    def add_student(self, student):\n",
    "        self.students.append(student)\n",
    "\n",
    "\n",
    "ai_course = Course(\"AI\")\n",
    "ai_course.add_student(std1)\n",
    "\n",
    "print(ai_course.students)\n",
    "print(ai_course.students[0].name)"
   ]
  },
  {
   "cell_type": "markdown",
   "id": "d76ee89a",
   "metadata": {},
   "source": [
    "### With types hints"
   ]
  },
  {
   "cell_type": "code",
   "execution_count": null,
   "id": "c2200c8b",
   "metadata": {},
   "outputs": [
    {
     "name": "stdout",
     "output_type": "stream",
     "text": [
      "[<__main__.Student object at 0x0000020094BE7380>]\n",
      "Ali\n"
     ]
    }
   ],
   "source": [
    "class Course:\n",
    "    def __init__(self, course_name: str):\n",
    "        self.course_name: str = course_name\n",
    "        self.students: list[Student] = []\n",
    "\n",
    "    def add_strudent(self, student: Student):\n",
    "        self.students.append(student)\n",
    "\n",
    "\n",
    "ai_course = Course(\"AI\")\n",
    "ai_course.add_strudent(std1)\n",
    "\n",
    "print(ai_course.students)\n",
    "print(ai_course.students[0].name)"
   ]
  },
  {
   "cell_type": "markdown",
   "id": "79f00b4a",
   "metadata": {},
   "source": [
    "## 🏛️ 4 Pillars of OOP \n",
    "\n",
    "1. **Inheritance**\n",
    "2. **Polymorphism**\n",
    "3. **Encapsulation**\n",
    "4. **Abstraction**\n",
    "\n",
    "### 🧬 Inheritance\n",
    "\n",
    "Inheritance allows a class (child) to reuse the attributes and methods of another class (parent)."
   ]
  },
  {
   "cell_type": "code",
   "execution_count": 8,
   "id": "cea411c6",
   "metadata": {},
   "outputs": [
    {
     "name": "stdout",
     "output_type": "stream",
     "text": [
      "Okasha\n"
     ]
    }
   ],
   "source": [
    "class Human:\n",
    "    def __init__(self, name, age):\n",
    "        self.name = name\n",
    "        self.age = age\n",
    "    \n",
    "    def eat(self):\n",
    "        print(\"Eating...\")\n",
    "\n",
    "\n",
    "class Student(Human):\n",
    "    def __init__(self, name, age, roll_no):\n",
    "        super().__init__(name, age)\n",
    "        self.roll_no = roll_no\n",
    "\n",
    "\n",
    "class Teacher(Human):\n",
    "    def __init__(self, name, age, salary):\n",
    "        super().__init__(name, age)\n",
    "        self.salary = salary\n",
    "\n",
    "\n",
    "std1 = Student(\"Okasha\", 21, 12345)\n",
    "print(std1.name)\n",
    "\n"
   ]
  },
  {
   "cell_type": "markdown",
   "id": "1a811765",
   "metadata": {},
   "source": [
    "### 🔄 Polymorphism\n",
    "\n",
    "Polymorphism means the same function or object can behave differently depending on the context or data type."
   ]
  },
  {
   "cell_type": "code",
   "execution_count": 9,
   "id": "5c849eaa",
   "metadata": {},
   "outputs": [
    {
     "name": "stdout",
     "output_type": "stream",
     "text": [
      "Eating with right hand\n",
      "Eating with left hand\n"
     ]
    }
   ],
   "source": [
    "class Human:\n",
    "    def __init__(self, name, age):\n",
    "        self.name = name\n",
    "        self.age = age\n",
    "    \n",
    "    def eat(self):\n",
    "        print(\"Eating with right hand\")\n",
    "\n",
    "\n",
    "class Student(Human):\n",
    "    def __init__(self, name, age, roll_no):\n",
    "        super().__init__(name, age)\n",
    "        self.roll_no = roll_no\n",
    "\n",
    "\n",
    "class Teacher(Human):\n",
    "    def __init__(self, name, age, salary):\n",
    "        super().__init__(name, age)\n",
    "        self.salary = salary\n",
    "    \n",
    "    def eat(self):\n",
    "        print(\"Eating with left hand\")\n",
    "\n",
    "\n",
    "\n",
    "std1 = Student(\"Okasha\", 21, 12345)\n",
    "std1.eat()\n",
    "\n",
    "teacher1 = Teacher(\"Ali\", 22, 30000)\n",
    "teacher1.eat()\n"
   ]
  },
  {
   "cell_type": "markdown",
   "id": "356dd4a7",
   "metadata": {},
   "source": [
    "### 🔒 Encapsulation\n",
    "\n",
    "Encapsulation means putting attributes and methods together in one place, usually in a class.  \n",
    "This helps to hide the details of how things work inside, so that other parts of the program can’t change or break it by mistake.\n",
    "\n",
    "\n",
    "#### Access Modifiers\n",
    "Access modifiers control the visibility of class members (variables and methods):\n",
    "\n",
    "- **public**: Accessible from anywhere in the program.\n",
    "- **__private**: Accessible only within the same class.\n",
    "- **_protected**: Accessible within the same class and by derived (child) classes.\n"
   ]
  },
  {
   "cell_type": "code",
   "execution_count": 10,
   "metadata": {},
   "outputs": [
    {
     "name": "stdout",
     "output_type": "stream",
     "text": [
      "Okasha\n",
      "12345\n",
      "Invalid account number\n",
      "500\n",
      "1500\n"
     ]
    }
   ],
   "source": [
    "class BankAccount:\n",
    "    def __init__(self, name, account_no, balance):\n",
    "        self.name = name\n",
    "        self._account_no = account_no\n",
    "        self.__balance = balance\n",
    "    \n",
    "    def get_balance(self, account_no):\n",
    "        if self._account_no == account_no:\n",
    "            return self.__balance\n",
    "        else:\n",
    "            return \"Invalid account number\"\n",
    "    \n",
    "    def deposit(self, account_no, amount):\n",
    "        if self._account_no != account_no:\n",
    "            return \"Invalid account number\"\n",
    "        self.__balance += amount\n",
    "\n",
    "    def withdraw(self, account_no, amount):\n",
    "        if self._account_no != account_no:\n",
    "            return \"Invalid account number\"\n",
    "        self.__balance -= amount\n",
    "\n",
    "\n",
    "\n",
    "user1 = BankAccount(\"Okasha\", 12345, 500)\n",
    "print(user1.name)\n",
    "print(user1._account_no)\n",
    "# print(user1.balance)\n",
    "\n",
    "print(user1.get_balance(68742))\n",
    "print(user1.get_balance(12345))\n",
    "\n",
    "user1.deposit(account_no=12345, amount=1000)\n",
    "print(user1.get_balance(12345))\n"
   ]
  },
  {
   "cell_type": "markdown",
   "id": "de7629cd",
   "metadata": {},
   "source": [
    "### 🛠️ Abstraction\n",
    "\n",
    "Abstraction means hiding unnecessary details and showing only the important parts of something.  \n",
    "In programming, it helps you focus on what something does, not how it does it.\n",
    "\n",
    "#### **🧩 Using Abstract Base Class**\n",
    "In Python, we use abc module (Abstract Base Class) to create abstract classes and abstract methods.\n",
    "\n",
    "An abstract class is like a blueprint — you can't use it directly.\n",
    "\n",
    "An abstract method is a method that has no body (just the name), and the child class must complete it.\n"
   ]
  },
  {
   "cell_type": "code",
   "execution_count": 11,
   "metadata": {},
   "outputs": [
    {
     "name": "stdout",
     "output_type": "stream",
     "text": [
      "Stripe Payment Process\n",
      "Stripe Refund\n"
     ]
    }
   ],
   "source": [
    "from abc import ABC, abstractmethod\n",
    "\n",
    "class PaymentMethod(ABC):\n",
    "    \n",
    "    @abstractmethod\n",
    "    def payment_proccess(self):\n",
    "        pass\n",
    "\n",
    "    @abstractmethod\n",
    "    def refund(self):\n",
    "        ... # use `pass` keyword or three dots `...`\n",
    "\n",
    "\n",
    "# payment = PaymentMethod()   #! TypeError: Can't instantiate abstract class PaymentMethod\n",
    "\n",
    "\n",
    "class Stripe(PaymentMethod):\n",
    "    def payment_proccess(self):\n",
    "        print(\"Stripe Payment Process\")\n",
    "\n",
    "    def refund(self):\n",
    "        print(\"Stripe Refund\")\n",
    "\n",
    "\n",
    "stripe = Stripe()\n",
    "stripe.payment_proccess()\n",
    "stripe.refund()\n",
    "\n"
   ]
  },
  {
   "cell_type": "markdown",
   "id": "f42e2589",
   "metadata": {},
   "source": [
    "## 📝 **Homework**\n",
    "\n",
    "### ✅ Learn\n",
    "\n",
    "1. **Getters and Setters**\n",
    "2. **Abstract Properties**\n",
    "\n",
    "---\n",
    "\n",
    "### 🏗️ Project: University Management System\n",
    "\n",
    "📁 Link: [Download Project Instructions](https://drive.google.com/file/d/1xFUYd6GW5U0tSQSN8_xi5QvFKrlxYfF0/view)\n",
    "\n",
    "Build a mini management system using OOP concepts\n",
    "\n",
    "* Use abstract base class for `Person`\n",
    "* Create `Student` and `Instructor` classes\n",
    "* Add methods for adding courses, showing info, etc.\n",
    "* Use encapsulation for private data\n",
    "* Use inheritance and polymorphism where needed\n"
   ]
  }
 ],
 "metadata": {
  "kernelspec": {
   "display_name": "Python 3",
   "language": "python",
   "name": "python3"
  },
  "language_info": {
   "codemirror_mode": {
    "name": "ipython",
    "version": 3
   },
   "file_extension": ".py",
   "mimetype": "text/x-python",
   "name": "python",
   "nbconvert_exporter": "python",
   "pygments_lexer": "ipython3",
   "version": "3.13.5"
  }
 },
 "nbformat": 4,
 "nbformat_minor": 5
}
