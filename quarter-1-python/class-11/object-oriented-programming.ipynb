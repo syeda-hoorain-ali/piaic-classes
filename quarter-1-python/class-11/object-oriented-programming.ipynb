{
 "cells": [
  {
   "cell_type": "markdown",
   "id": "860cea21",
   "metadata": {},
   "source": [
    "<font size=7 color=green> <b> 🐍 Python Class 11 – 29 June 2025 </b> </font>\n",
    "\n",
    "<font size=3>\n",
    "\n",
    "### **🧱 Object-Oriented Programming (OOP)**\n",
    "\n",
    "- **🏗️ Constructor**\n",
    "- **🎯 Constructor with Parameters**\n",
    "- **📦 Attributes and Methods**\n",
    "- **🏛️ 4 Pillars of OOP**\n",
    "- **🧬 Inheritance**\n",
    "- **🌐 Multiple Inheritance**\n",
    "- **📝 Homework Assignments**\n",
    "</font>\n",
    "\n",
    "---"
   ]
  },
  {
   "cell_type": "markdown",
   "id": "8d42844e",
   "metadata": {},
   "source": [
    "<font size=3>\n",
    "\n",
    "## 🧱 Object-Oriented Programming (OOP)\n",
    "\n",
    "Python supports Object-Oriented Programming. Let’s explore it with real examples:\n",
    "\n",
    "---\n",
    "\n",
    "### 🏗️ Constructor (`__init__`)\n",
    "\n",
    "A **constructor** is a special method that runs automatically when an object is created using a class. We define it with `__init__()`.\n",
    "\n",
    "</font>"
   ]
  },
  {
   "cell_type": "code",
   "execution_count": 1,
   "id": "fa55d72b",
   "metadata": {},
   "outputs": [
    {
     "name": "stdout",
     "output_type": "stream",
     "text": [
      "<__main__.House object at 0x00000231035EB230>\n",
      "XYZ 123\n",
      "XYZ 123\n"
     ]
    }
   ],
   "source": [
    "class House:\n",
    "    def __init__(self):\n",
    "        # self = {}\n",
    "        \n",
    "        self.address = \"XYZ 123\"\n",
    "        # self = { address: \"XYZ 123\" }\n",
    "        \n",
    "        self.number_of_rooms = 4\n",
    "        # self = { address: \"XYZ 123\", number_of_rooms: 4 }\n",
    "        \n",
    "        self.number_of_doors = 2\n",
    "        # self = { address: \"XYZ 123\", number_of_rooms: 4, number_of_doors: 2 }\n",
    "\n",
    "\n",
    "h1 = House()\n",
    "\n",
    "print( h1 )\n",
    "print( h1.address )\n",
    "\n",
    "\n",
    "h2 = House()\n",
    "print( h2.address )\n"
   ]
  },
  {
   "cell_type": "markdown",
   "id": "a5ee2d7e",
   "metadata": {},
   "source": [
    "### 🎯 Constructor with Parameters"
   ]
  },
  {
   "cell_type": "code",
   "execution_count": 2,
   "id": "be325369",
   "metadata": {},
   "outputs": [
    {
     "name": "stdout",
     "output_type": "stream",
     "text": [
      "A29\n"
     ]
    }
   ],
   "source": [
    "class House:\n",
    "    def __init__(self, addrs): \n",
    "        self.address = addrs\n",
    "        self.number_of_rooms = 4\n",
    "        self.number_of_doors = 2\n",
    "\n",
    "\n",
    "h1 = House(\"A29\")\n",
    "print( h1.address )\n"
   ]
  },
  {
   "cell_type": "markdown",
   "id": "b9a4ce41",
   "metadata": {},
   "source": [
    "### 📦 Attributes and Methods\n",
    "\n",
    "* **Attributes** are variables inside a class.\n",
    "* **Methods** are functions inside a class."
   ]
  },
  {
   "cell_type": "code",
   "execution_count": 3,
   "id": "3e9482c6",
   "metadata": {},
   "outputs": [
    {
     "name": "stdout",
     "output_type": "stream",
     "text": [
      "A29\n",
      "Ding dong!\n"
     ]
    }
   ],
   "source": [
    "class House:\n",
    "    def __init__(self, addrs): \n",
    "        self.address = addrs\n",
    "        self.number_of_rooms = 4\n",
    "        self.number_of_doors = 2\n",
    "\n",
    "    def ring_bell(self):\n",
    "        print(\"Ding dong!\")\n",
    "\n",
    "\n",
    "h1 = House(\"A29\")\n",
    "print( h1.address )\n",
    "h1.ring_bell()\n"
   ]
  },
  {
   "cell_type": "markdown",
   "id": "fb77b56a",
   "metadata": {},
   "source": [
    "### Class Without Inheritance"
   ]
  },
  {
   "cell_type": "code",
   "execution_count": 4,
   "id": "28453049",
   "metadata": {},
   "outputs": [
    {
     "name": "stdout",
     "output_type": "stream",
     "text": [
      "23\n"
     ]
    }
   ],
   "source": [
    "class Appartment:\n",
    "    def __init__(self, addrs, flat_number): \n",
    "        self.address = addrs\n",
    "        self.number_of_rooms = 4\n",
    "        self.number_of_doors = 2\n",
    "        self.flat_number = flat_number\n",
    "\n",
    "\n",
    "aprt1 = Appartment(\"ABC\", 23)\n",
    "print( aprt1.flat_number )\n",
    "    "
   ]
  },
  {
   "cell_type": "markdown",
   "id": "2707dcca",
   "metadata": {},
   "source": [
    "### 🏛️ 4 Pillars of OOP \n",
    "\n",
    "1. **Inheritance**\n",
    "2. **Polymorphism**\n",
    "3. **Encapsulation**\n",
    "4. **Abstraction**"
   ]
  },
  {
   "cell_type": "markdown",
   "id": "ae5981fa",
   "metadata": {},
   "source": [
    "### 🧬 Inheritance\n",
    "\n",
    "Inheritance allows a class (child) to reuse the attributes and methods of another class (parent)."
   ]
  },
  {
   "cell_type": "code",
   "execution_count": 5,
   "id": "619c7434",
   "metadata": {},
   "outputs": [
    {
     "name": "stdout",
     "output_type": "stream",
     "text": [
      "Address: ABC\n",
      "Flat number: 23\n",
      "Number of doors: 2\n",
      "Number of rooms: 4\n"
     ]
    }
   ],
   "source": [
    "class Appartment(House):\n",
    "    def __init__(self, addrs, flat_number):\n",
    "        super().__init__(addrs) \n",
    "        self.flat_number = flat_number\n",
    "\n",
    "\n",
    "aprt1 = Appartment(\"ABC\", 23)\n",
    "\n",
    "print( f\"Address: {aprt1.address}\" )\n",
    "print( f\"Flat number: {aprt1.flat_number}\" )\n",
    "print( f\"Number of doors: {aprt1.number_of_doors}\" )\n",
    "print( f\"Number of rooms: {aprt1.number_of_rooms}\" )\n"
   ]
  },
  {
   "cell_type": "markdown",
   "id": "ee395f9d",
   "metadata": {},
   "source": [
    "### 🌐 Multiple Inheritance\n",
    "\n",
    "A class can inherit from **more than one parent class**.\n"
   ]
  },
  {
   "cell_type": "code",
   "execution_count": 6,
   "id": "06ae8a5c",
   "metadata": {},
   "outputs": [
    {
     "name": "stdout",
     "output_type": "stream",
     "text": [
      "Address: ABC\n",
      "Flat number: 23\n",
      "Number of doors: 2\n",
      "Number of rooms: 4\n",
      "Color: red\n"
     ]
    }
   ],
   "source": [
    "class House1:\n",
    "    def __init__(self, color):\n",
    "        self.color = color\n",
    "\n",
    "class Appartment(House, House1):\n",
    "    def __init__(self, addrs, flat_number):\n",
    "        House.__init__(self, addrs) \n",
    "        House1.__init__(self, 'red') \n",
    "        self.flat_number = flat_number\n",
    "\n",
    "\n",
    "aprt1 = Appartment(\"ABC\", 23)\n",
    "\n",
    "print( f\"Address: {aprt1.address}\" )\n",
    "print( f\"Flat number: {aprt1.flat_number}\" )\n",
    "print( f\"Number of doors: {aprt1.number_of_doors}\" )\n",
    "print( f\"Number of rooms: {aprt1.number_of_rooms}\" )\n",
    "print( f\"Color: {aprt1.color}\" )\n"
   ]
  },
  {
   "cell_type": "markdown",
   "id": "742f1a37",
   "metadata": {},
   "source": [
    "## 📝 **Homework**\n",
    "- Try creating a class with a constructor, attributes, and methods\n",
    "- Implement an example of inheritance and multiple inheritance\n",
    "- Make notes on the 4 pillars of OOP (we will cover them in detail later)\n",
    "- Revise for the upcoming quiz: step 01 to 09"
   ]
  }
 ],
 "metadata": {
  "kernelspec": {
   "display_name": "Python 3",
   "language": "python",
   "name": "python3"
  },
  "language_info": {
   "codemirror_mode": {
    "name": "ipython",
    "version": 3
   },
   "file_extension": ".py",
   "mimetype": "text/x-python",
   "name": "python",
   "nbconvert_exporter": "python",
   "pygments_lexer": "ipython3",
   "version": "3.13.5"
  }
 },
 "nbformat": 4,
 "nbformat_minor": 5
}
